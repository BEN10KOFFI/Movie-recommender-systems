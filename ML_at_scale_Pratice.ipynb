{
  "cells": [
    {
      "cell_type": "markdown",
      "source": [
        "# Pratical 1"
      ],
      "metadata": {
        "id": "0qxiSYUm6dMH"
      },
      "id": "0qxiSYUm6dMH"
    },
    {
      "cell_type": "code",
      "source": [
        "from google.colab import drive\n",
        "drive.mount('/content/drive')"
      ],
      "metadata": {
        "colab": {
          "base_uri": "https://localhost:8080/"
        },
        "id": "0DjMXZQGiEUK",
        "outputId": "a3988883-9998-478c-ec5c-8cd8b571b284"
      },
      "id": "0DjMXZQGiEUK",
      "execution_count": 1,
      "outputs": [
        {
          "output_type": "stream",
          "name": "stdout",
          "text": [
            "Mounted at /content/drive\n"
          ]
        }
      ]
    },
    {
      "cell_type": "code",
      "source": [
        "pip install tqdm"
      ],
      "metadata": {
        "colab": {
          "base_uri": "https://localhost:8080/"
        },
        "id": "Cm-WEoT3idyv",
        "outputId": "22570c22-b7e7-4365-c040-ba1d5122bfa8"
      },
      "id": "Cm-WEoT3idyv",
      "execution_count": 2,
      "outputs": [
        {
          "output_type": "stream",
          "name": "stdout",
          "text": [
            "Requirement already satisfied: tqdm in /usr/local/lib/python3.10/dist-packages (4.66.5)\n"
          ]
        }
      ]
    },
    {
      "cell_type": "code",
      "execution_count": 3,
      "id": "3766b717-96b6-4c5e-881a-20e843033433",
      "metadata": {
        "id": "3766b717-96b6-4c5e-881a-20e843033433",
        "collapsed": true
      },
      "outputs": [],
      "source": [
        "from tqdm import tqdm\n",
        "import sys, os\n",
        "import random\n",
        "import numpy as np\n",
        "import pandas as pd\n",
        "import matplotlib.pyplot as plt"
      ]
    },
    {
      "cell_type": "code",
      "source": [
        "dataset='/content/drive/MyDrive/ratings.csv'\n",
        "ratings=pd.read_csv(dataset)\n",
        "ratings.head(71)"
      ],
      "metadata": {
        "colab": {
          "base_uri": "https://localhost:8080/",
          "height": 424
        },
        "id": "9WZqM-KoiVGd",
        "outputId": "27609019-3325-4d3a-d021-fe2465e91c2c",
        "collapsed": true
      },
      "id": "9WZqM-KoiVGd",
      "execution_count": 4,
      "outputs": [
        {
          "output_type": "execute_result",
          "data": {
            "text/plain": [
              "    userId  movieId  rating   timestamp\n",
              "0        1      296     5.0  1147880044\n",
              "1        1      306     3.5  1147868817\n",
              "2        1      307     5.0  1147868828\n",
              "3        1      665     5.0  1147878820\n",
              "4        1      899     3.5  1147868510\n",
              "..     ...      ...     ...         ...\n",
              "66       1    27266     4.5  1147879365\n",
              "67       1    27721     3.0  1147869115\n",
              "68       1    31956     3.5  1147877610\n",
              "69       1    32591     5.0  1147879538\n",
              "70       2        1     3.5  1141415820\n",
              "\n",
              "[71 rows x 4 columns]"
            ],
            "text/html": [
              "\n",
              "  <div id=\"df-4202e290-279c-4a58-9436-43a15c24fcf1\" class=\"colab-df-container\">\n",
              "    <div>\n",
              "<style scoped>\n",
              "    .dataframe tbody tr th:only-of-type {\n",
              "        vertical-align: middle;\n",
              "    }\n",
              "\n",
              "    .dataframe tbody tr th {\n",
              "        vertical-align: top;\n",
              "    }\n",
              "\n",
              "    .dataframe thead th {\n",
              "        text-align: right;\n",
              "    }\n",
              "</style>\n",
              "<table border=\"1\" class=\"dataframe\">\n",
              "  <thead>\n",
              "    <tr style=\"text-align: right;\">\n",
              "      <th></th>\n",
              "      <th>userId</th>\n",
              "      <th>movieId</th>\n",
              "      <th>rating</th>\n",
              "      <th>timestamp</th>\n",
              "    </tr>\n",
              "  </thead>\n",
              "  <tbody>\n",
              "    <tr>\n",
              "      <th>0</th>\n",
              "      <td>1</td>\n",
              "      <td>296</td>\n",
              "      <td>5.0</td>\n",
              "      <td>1147880044</td>\n",
              "    </tr>\n",
              "    <tr>\n",
              "      <th>1</th>\n",
              "      <td>1</td>\n",
              "      <td>306</td>\n",
              "      <td>3.5</td>\n",
              "      <td>1147868817</td>\n",
              "    </tr>\n",
              "    <tr>\n",
              "      <th>2</th>\n",
              "      <td>1</td>\n",
              "      <td>307</td>\n",
              "      <td>5.0</td>\n",
              "      <td>1147868828</td>\n",
              "    </tr>\n",
              "    <tr>\n",
              "      <th>3</th>\n",
              "      <td>1</td>\n",
              "      <td>665</td>\n",
              "      <td>5.0</td>\n",
              "      <td>1147878820</td>\n",
              "    </tr>\n",
              "    <tr>\n",
              "      <th>4</th>\n",
              "      <td>1</td>\n",
              "      <td>899</td>\n",
              "      <td>3.5</td>\n",
              "      <td>1147868510</td>\n",
              "    </tr>\n",
              "    <tr>\n",
              "      <th>...</th>\n",
              "      <td>...</td>\n",
              "      <td>...</td>\n",
              "      <td>...</td>\n",
              "      <td>...</td>\n",
              "    </tr>\n",
              "    <tr>\n",
              "      <th>66</th>\n",
              "      <td>1</td>\n",
              "      <td>27266</td>\n",
              "      <td>4.5</td>\n",
              "      <td>1147879365</td>\n",
              "    </tr>\n",
              "    <tr>\n",
              "      <th>67</th>\n",
              "      <td>1</td>\n",
              "      <td>27721</td>\n",
              "      <td>3.0</td>\n",
              "      <td>1147869115</td>\n",
              "    </tr>\n",
              "    <tr>\n",
              "      <th>68</th>\n",
              "      <td>1</td>\n",
              "      <td>31956</td>\n",
              "      <td>3.5</td>\n",
              "      <td>1147877610</td>\n",
              "    </tr>\n",
              "    <tr>\n",
              "      <th>69</th>\n",
              "      <td>1</td>\n",
              "      <td>32591</td>\n",
              "      <td>5.0</td>\n",
              "      <td>1147879538</td>\n",
              "    </tr>\n",
              "    <tr>\n",
              "      <th>70</th>\n",
              "      <td>2</td>\n",
              "      <td>1</td>\n",
              "      <td>3.5</td>\n",
              "      <td>1141415820</td>\n",
              "    </tr>\n",
              "  </tbody>\n",
              "</table>\n",
              "<p>71 rows × 4 columns</p>\n",
              "</div>\n",
              "    <div class=\"colab-df-buttons\">\n",
              "\n",
              "  <div class=\"colab-df-container\">\n",
              "    <button class=\"colab-df-convert\" onclick=\"convertToInteractive('df-4202e290-279c-4a58-9436-43a15c24fcf1')\"\n",
              "            title=\"Convert this dataframe to an interactive table.\"\n",
              "            style=\"display:none;\">\n",
              "\n",
              "  <svg xmlns=\"http://www.w3.org/2000/svg\" height=\"24px\" viewBox=\"0 -960 960 960\">\n",
              "    <path d=\"M120-120v-720h720v720H120Zm60-500h600v-160H180v160Zm220 220h160v-160H400v160Zm0 220h160v-160H400v160ZM180-400h160v-160H180v160Zm440 0h160v-160H620v160ZM180-180h160v-160H180v160Zm440 0h160v-160H620v160Z\"/>\n",
              "  </svg>\n",
              "    </button>\n",
              "\n",
              "  <style>\n",
              "    .colab-df-container {\n",
              "      display:flex;\n",
              "      gap: 12px;\n",
              "    }\n",
              "\n",
              "    .colab-df-convert {\n",
              "      background-color: #E8F0FE;\n",
              "      border: none;\n",
              "      border-radius: 50%;\n",
              "      cursor: pointer;\n",
              "      display: none;\n",
              "      fill: #1967D2;\n",
              "      height: 32px;\n",
              "      padding: 0 0 0 0;\n",
              "      width: 32px;\n",
              "    }\n",
              "\n",
              "    .colab-df-convert:hover {\n",
              "      background-color: #E2EBFA;\n",
              "      box-shadow: 0px 1px 2px rgba(60, 64, 67, 0.3), 0px 1px 3px 1px rgba(60, 64, 67, 0.15);\n",
              "      fill: #174EA6;\n",
              "    }\n",
              "\n",
              "    .colab-df-buttons div {\n",
              "      margin-bottom: 4px;\n",
              "    }\n",
              "\n",
              "    [theme=dark] .colab-df-convert {\n",
              "      background-color: #3B4455;\n",
              "      fill: #D2E3FC;\n",
              "    }\n",
              "\n",
              "    [theme=dark] .colab-df-convert:hover {\n",
              "      background-color: #434B5C;\n",
              "      box-shadow: 0px 1px 3px 1px rgba(0, 0, 0, 0.15);\n",
              "      filter: drop-shadow(0px 1px 2px rgba(0, 0, 0, 0.3));\n",
              "      fill: #FFFFFF;\n",
              "    }\n",
              "  </style>\n",
              "\n",
              "    <script>\n",
              "      const buttonEl =\n",
              "        document.querySelector('#df-4202e290-279c-4a58-9436-43a15c24fcf1 button.colab-df-convert');\n",
              "      buttonEl.style.display =\n",
              "        google.colab.kernel.accessAllowed ? 'block' : 'none';\n",
              "\n",
              "      async function convertToInteractive(key) {\n",
              "        const element = document.querySelector('#df-4202e290-279c-4a58-9436-43a15c24fcf1');\n",
              "        const dataTable =\n",
              "          await google.colab.kernel.invokeFunction('convertToInteractive',\n",
              "                                                    [key], {});\n",
              "        if (!dataTable) return;\n",
              "\n",
              "        const docLinkHtml = 'Like what you see? Visit the ' +\n",
              "          '<a target=\"_blank\" href=https://colab.research.google.com/notebooks/data_table.ipynb>data table notebook</a>'\n",
              "          + ' to learn more about interactive tables.';\n",
              "        element.innerHTML = '';\n",
              "        dataTable['output_type'] = 'display_data';\n",
              "        await google.colab.output.renderOutput(dataTable, element);\n",
              "        const docLink = document.createElement('div');\n",
              "        docLink.innerHTML = docLinkHtml;\n",
              "        element.appendChild(docLink);\n",
              "      }\n",
              "    </script>\n",
              "  </div>\n",
              "\n",
              "\n",
              "<div id=\"df-28cac11e-fc98-410e-9dcf-d25c8499406e\">\n",
              "  <button class=\"colab-df-quickchart\" onclick=\"quickchart('df-28cac11e-fc98-410e-9dcf-d25c8499406e')\"\n",
              "            title=\"Suggest charts\"\n",
              "            style=\"display:none;\">\n",
              "\n",
              "<svg xmlns=\"http://www.w3.org/2000/svg\" height=\"24px\"viewBox=\"0 0 24 24\"\n",
              "     width=\"24px\">\n",
              "    <g>\n",
              "        <path d=\"M19 3H5c-1.1 0-2 .9-2 2v14c0 1.1.9 2 2 2h14c1.1 0 2-.9 2-2V5c0-1.1-.9-2-2-2zM9 17H7v-7h2v7zm4 0h-2V7h2v10zm4 0h-2v-4h2v4z\"/>\n",
              "    </g>\n",
              "</svg>\n",
              "  </button>\n",
              "\n",
              "<style>\n",
              "  .colab-df-quickchart {\n",
              "      --bg-color: #E8F0FE;\n",
              "      --fill-color: #1967D2;\n",
              "      --hover-bg-color: #E2EBFA;\n",
              "      --hover-fill-color: #174EA6;\n",
              "      --disabled-fill-color: #AAA;\n",
              "      --disabled-bg-color: #DDD;\n",
              "  }\n",
              "\n",
              "  [theme=dark] .colab-df-quickchart {\n",
              "      --bg-color: #3B4455;\n",
              "      --fill-color: #D2E3FC;\n",
              "      --hover-bg-color: #434B5C;\n",
              "      --hover-fill-color: #FFFFFF;\n",
              "      --disabled-bg-color: #3B4455;\n",
              "      --disabled-fill-color: #666;\n",
              "  }\n",
              "\n",
              "  .colab-df-quickchart {\n",
              "    background-color: var(--bg-color);\n",
              "    border: none;\n",
              "    border-radius: 50%;\n",
              "    cursor: pointer;\n",
              "    display: none;\n",
              "    fill: var(--fill-color);\n",
              "    height: 32px;\n",
              "    padding: 0;\n",
              "    width: 32px;\n",
              "  }\n",
              "\n",
              "  .colab-df-quickchart:hover {\n",
              "    background-color: var(--hover-bg-color);\n",
              "    box-shadow: 0 1px 2px rgba(60, 64, 67, 0.3), 0 1px 3px 1px rgba(60, 64, 67, 0.15);\n",
              "    fill: var(--button-hover-fill-color);\n",
              "  }\n",
              "\n",
              "  .colab-df-quickchart-complete:disabled,\n",
              "  .colab-df-quickchart-complete:disabled:hover {\n",
              "    background-color: var(--disabled-bg-color);\n",
              "    fill: var(--disabled-fill-color);\n",
              "    box-shadow: none;\n",
              "  }\n",
              "\n",
              "  .colab-df-spinner {\n",
              "    border: 2px solid var(--fill-color);\n",
              "    border-color: transparent;\n",
              "    border-bottom-color: var(--fill-color);\n",
              "    animation:\n",
              "      spin 1s steps(1) infinite;\n",
              "  }\n",
              "\n",
              "  @keyframes spin {\n",
              "    0% {\n",
              "      border-color: transparent;\n",
              "      border-bottom-color: var(--fill-color);\n",
              "      border-left-color: var(--fill-color);\n",
              "    }\n",
              "    20% {\n",
              "      border-color: transparent;\n",
              "      border-left-color: var(--fill-color);\n",
              "      border-top-color: var(--fill-color);\n",
              "    }\n",
              "    30% {\n",
              "      border-color: transparent;\n",
              "      border-left-color: var(--fill-color);\n",
              "      border-top-color: var(--fill-color);\n",
              "      border-right-color: var(--fill-color);\n",
              "    }\n",
              "    40% {\n",
              "      border-color: transparent;\n",
              "      border-right-color: var(--fill-color);\n",
              "      border-top-color: var(--fill-color);\n",
              "    }\n",
              "    60% {\n",
              "      border-color: transparent;\n",
              "      border-right-color: var(--fill-color);\n",
              "    }\n",
              "    80% {\n",
              "      border-color: transparent;\n",
              "      border-right-color: var(--fill-color);\n",
              "      border-bottom-color: var(--fill-color);\n",
              "    }\n",
              "    90% {\n",
              "      border-color: transparent;\n",
              "      border-bottom-color: var(--fill-color);\n",
              "    }\n",
              "  }\n",
              "</style>\n",
              "\n",
              "  <script>\n",
              "    async function quickchart(key) {\n",
              "      const quickchartButtonEl =\n",
              "        document.querySelector('#' + key + ' button');\n",
              "      quickchartButtonEl.disabled = true;  // To prevent multiple clicks.\n",
              "      quickchartButtonEl.classList.add('colab-df-spinner');\n",
              "      try {\n",
              "        const charts = await google.colab.kernel.invokeFunction(\n",
              "            'suggestCharts', [key], {});\n",
              "      } catch (error) {\n",
              "        console.error('Error during call to suggestCharts:', error);\n",
              "      }\n",
              "      quickchartButtonEl.classList.remove('colab-df-spinner');\n",
              "      quickchartButtonEl.classList.add('colab-df-quickchart-complete');\n",
              "    }\n",
              "    (() => {\n",
              "      let quickchartButtonEl =\n",
              "        document.querySelector('#df-28cac11e-fc98-410e-9dcf-d25c8499406e button');\n",
              "      quickchartButtonEl.style.display =\n",
              "        google.colab.kernel.accessAllowed ? 'block' : 'none';\n",
              "    })();\n",
              "  </script>\n",
              "</div>\n",
              "\n",
              "    </div>\n",
              "  </div>\n"
            ],
            "application/vnd.google.colaboratory.intrinsic+json": {
              "type": "dataframe",
              "variable_name": "ratings"
            }
          },
          "metadata": {},
          "execution_count": 4
        }
      ]
    },
    {
      "cell_type": "code",
      "source": [
        "ratings_reader1=[[1,4,5],[2,2,2],[1,1,3],[3,3,1],[2,1,0],[1,3,1]]"
      ],
      "metadata": {
        "id": "BTTph3PZVXVf"
      },
      "id": "BTTph3PZVXVf",
      "execution_count": 4,
      "outputs": []
    },
    {
      "cell_type": "code",
      "source": [
        "print(type(ratings_reader1))"
      ],
      "metadata": {
        "colab": {
          "base_uri": "https://localhost:8080/"
        },
        "collapsed": true,
        "id": "wkef4ZZyaeuq",
        "outputId": "d4da32b3-bbf9-4262-d672-dc5ad84f5a32"
      },
      "id": "wkef4ZZyaeuq",
      "execution_count": 5,
      "outputs": [
        {
          "output_type": "stream",
          "name": "stdout",
          "text": [
            "<class 'list'>\n"
          ]
        }
      ]
    },
    {
      "cell_type": "code",
      "source": [
        "\n",
        "p =random.random()\n",
        "p"
      ],
      "metadata": {
        "colab": {
          "base_uri": "https://localhost:8080/"
        },
        "collapsed": true,
        "id": "F4bLnQ8Pc1hQ",
        "outputId": "86d673ea-4eeb-4906-97af-06222a3b7960"
      },
      "id": "F4bLnQ8Pc1hQ",
      "execution_count": 6,
      "outputs": [
        {
          "output_type": "execute_result",
          "data": {
            "text/plain": [
              "0.7819988754781678"
            ]
          },
          "metadata": {},
          "execution_count": 6
        }
      ]
    },
    {
      "cell_type": "code",
      "source": [
        "def DataStructure(Data):\n",
        "  ratings_reader=Data.to_numpy()\n",
        "  user_index=0\n",
        "  movie_index=0\n",
        "  map_user_to_index={}\n",
        "  map_index_to_user=[]\n",
        "  map_movie_to_index={}\n",
        "  map_index_to_movie=[]\n",
        "  data_by_user_index=[]\n",
        "  data_by_movie_index=[]\n",
        "\n",
        "  for i in ratings_reader:\n",
        "    if i[0] not in map_user_to_index:\n",
        "      map_user_to_index[i[0]]=user_index\n",
        "      map_index_to_user.append(i[0])\n",
        "      data_by_user_index.append([])\n",
        "      user_index += 1\n",
        "\n",
        "    if i[1] not in map_movie_to_index:\n",
        "      map_movie_to_index[i[1]]=movie_index\n",
        "      map_index_to_movie.append(i[1])\n",
        "      data_by_movie_index.append([])\n",
        "      movie_index += 1\n",
        "\n",
        "    up_user_index = map_user_to_index[i[0]]\n",
        "    up_movie_index = map_movie_to_index[i[1]]\n",
        "\n",
        "    data_by_user_index[up_user_index].append((up_movie_index,i[2]))\n",
        "    data_by_movie_index[up_movie_index].append((up_user_index,i[2]))\n",
        "  return data_by_user_index,data_by_movie_index"
      ],
      "metadata": {
        "id": "59gDhDueVTcM"
      },
      "id": "59gDhDueVTcM",
      "execution_count": 6,
      "outputs": []
    },
    {
      "cell_type": "code",
      "source": [
        "U,M = DataStructure(Data=ratings)"
      ],
      "metadata": {
        "collapsed": true,
        "id": "hd8tLvkvYhLp"
      },
      "id": "hd8tLvkvYhLp",
      "execution_count": 7,
      "outputs": []
    },
    {
      "cell_type": "code",
      "source": [
        "frequencyUser={}\n",
        "count=0\n",
        "for i in U:\n",
        "  degree=len(i)\n",
        "  if degree not in frequencyUser:\n",
        "    frequencyUser[degree]=1\n",
        "  else:\n",
        "    frequencyUser[degree]+=1\n",
        "  count+=1\n",
        "\n",
        "frequencyMovie={}\n",
        "count=0\n",
        "for i in M:\n",
        "  degree=len(i)\n",
        "  if degree not in frequencyMovie:\n",
        "    frequencyMovie[degree]=1\n",
        "  else:\n",
        "    frequencyMovie[degree]+=1\n",
        "  count+=1"
      ],
      "metadata": {
        "collapsed": true,
        "id": "6LBkdTQUBnBX"
      },
      "id": "6LBkdTQUBnBX",
      "execution_count": 8,
      "outputs": []
    },
    {
      "cell_type": "code",
      "source": [
        "fig,ax=plt.subplots(figsize=(10,5))\n",
        "ax.scatter(frequencyMovie.keys(),frequencyMovie.values(),label='Movies',color='green')\n",
        "ax.scatter(frequencyUser.keys(),frequencyUser.values(),label='Users',color='purple')\n",
        "#ax.set_title(\"Degree distribution\")\n",
        "ax.set_xlabel(\"Degree\")\n",
        "ax.set_ylabel(\"Frequency\")\n",
        "ax.legend()\n",
        "\n",
        "plt.yscale('log')\n",
        "plt.xscale('log')\n",
        "plt.savefig('Degree_Distribution.pdf')\n",
        "plt.show()"
      ],
      "metadata": {
        "collapsed": true,
        "id": "44zftw2qDJlF",
        "colab": {
          "base_uri": "https://localhost:8080/",
          "height": 469
        },
        "outputId": "f8d999cf-b0c6-49f6-ef08-faca58625d22"
      },
      "id": "44zftw2qDJlF",
      "execution_count": 10,
      "outputs": [
        {
          "output_type": "display_data",
          "data": {
            "text/plain": [
              "<Figure size 1000x500 with 1 Axes>"
            ],
            "image/png": "[encoded data removed]"
          },
          "metadata": {}
        }
      ]
    },
    {
      "cell_type": "markdown",
      "source": [
        "# Pratice 2"
      ],
      "metadata": {
        "id": "Lt5njrP4FjYM"
      },
      "id": "Lt5njrP4FjYM"
    },
    {
      "cell_type": "markdown",
      "source": [
        "## 1.   Download a smaller MovieLens dataset to develop and debug with, and again index it"
      ],
      "metadata": {
        "id": "3Ow3PLmNqUpg"
      },
      "id": "3Ow3PLmNqUpg"
    },
    {
      "cell_type": "code",
      "source": [
        "dataset='/content/drive/MyDrive/ratings-small.csv'\n",
        "ratings2=pd.read_csv(dataset)\n",
        "ratings2.head()"
      ],
      "metadata": {
        "colab": {
          "base_uri": "https://localhost:8080/",
          "height": 206
        },
        "id": "x1yMkwBCFmED",
        "outputId": "5589de64-f67a-4f40-bd9b-a9535de6901a"
      },
      "id": "x1yMkwBCFmED",
      "execution_count": 11,
      "outputs": [
        {
          "output_type": "execute_result",
          "data": {
            "text/plain": [
              "   userId  movieId  rating  timestamp\n",
              "0       1        1     4.0  964982703\n",
              "1       1        3     4.0  964981247\n",
              "2       1        6     4.0  964982224\n",
              "3       1       47     5.0  964983815\n",
              "4       1       50     5.0  964982931"
            ],
            "text/html": [
              "\n",
              "  <div id=\"df-3fcf3cff-fe02-45b0-99d3-dc55e22320f4\" class=\"colab-df-container\">\n",
              "    <div>\n",
              "<style scoped>\n",
              "    .dataframe tbody tr th:only-of-type {\n",
              "        vertical-align: middle;\n",
              "    }\n",
              "\n",
              "    .dataframe tbody tr th {\n",
              "        vertical-align: top;\n",
              "    }\n",
              "\n",
              "    .dataframe thead th {\n",
              "        text-align: right;\n",
              "    }\n",
              "</style>\n",
              "<table border=\"1\" class=\"dataframe\">\n",
              "  <thead>\n",
              "    <tr style=\"text-align: right;\">\n",
              "      <th></th>\n",
              "      <th>userId</th>\n",
              "      <th>movieId</th>\n",
              "      <th>rating</th>\n",
              "      <th>timestamp</th>\n",
              "    </tr>\n",
              "  </thead>\n",
              "  <tbody>\n",
              "    <tr>\n",
              "      <th>0</th>\n",
              "      <td>1</td>\n",
              "      <td>1</td>\n",
              "      <td>4.0</td>\n",
              "      <td>964982703</td>\n",
              "    </tr>\n",
              "    <tr>\n",
              "      <th>1</th>\n",
              "      <td>1</td>\n",
              "      <td>3</td>\n",
              "      <td>4.0</td>\n",
              "      <td>964981247</td>\n",
              "    </tr>\n",
              "    <tr>\n",
              "      <th>2</th>\n",
              "      <td>1</td>\n",
              "      <td>6</td>\n",
              "      <td>4.0</td>\n",
              "      <td>964982224</td>\n",
              "    </tr>\n",
              "    <tr>\n",
              "      <th>3</th>\n",
              "      <td>1</td>\n",
              "      <td>47</td>\n",
              "      <td>5.0</td>\n",
              "      <td>964983815</td>\n",
              "    </tr>\n",
              "    <tr>\n",
              "      <th>4</th>\n",
              "      <td>1</td>\n",
              "      <td>50</td>\n",
              "      <td>5.0</td>\n",
              "      <td>964982931</td>\n",
              "    </tr>\n",
              "  </tbody>\n",
              "</table>\n",
              "</div>\n",
              "    <div class=\"colab-df-buttons\">\n",
              "\n",
              "  <div class=\"colab-df-container\">\n",
              "    <button class=\"colab-df-convert\" onclick=\"convertToInteractive('df-3fcf3cff-fe02-45b0-99d3-dc55e22320f4')\"\n",
              "            title=\"Convert this dataframe to an interactive table.\"\n",
              "            style=\"display:none;\">\n",
              "\n",
              "  <svg xmlns=\"http://www.w3.org/2000/svg\" height=\"24px\" viewBox=\"0 -960 960 960\">\n",
              "    <path d=\"M120-120v-720h720v720H120Zm60-500h600v-160H180v160Zm220 220h160v-160H400v160Zm0 220h160v-160H400v160ZM180-400h160v-160H180v160Zm440 0h160v-160H620v160ZM180-180h160v-160H180v160Zm440 0h160v-160H620v160Z\"/>\n",
              "  </svg>\n",
              "    </button>\n",
              "\n",
              "  <style>\n",
              "    .colab-df-container {\n",
              "      display:flex;\n",
              "      gap: 12px;\n",
              "    }\n",
              "\n",
              "    .colab-df-convert {\n",
              "      background-color: #E8F0FE;\n",
              "      border: none;\n",
              "      border-radius: 50%;\n",
              "      cursor: pointer;\n",
              "      display: none;\n",
              "      fill: #1967D2;\n",
              "      height: 32px;\n",
              "      padding: 0 0 0 0;\n",
              "      width: 32px;\n",
              "    }\n",
              "\n",
              "    .colab-df-convert:hover {\n",
              "      background-color: #E2EBFA;\n",
              "      box-shadow: 0px 1px 2px rgba(60, 64, 67, 0.3), 0px 1px 3px 1px rgba(60, 64, 67, 0.15);\n",
              "      fill: #174EA6;\n",
              "    }\n",
              "\n",
              "    .colab-df-buttons div {\n",
              "      margin-bottom: 4px;\n",
              "    }\n",
              "\n",
              "    [theme=dark] .colab-df-convert {\n",
              "      background-color: #3B4455;\n",
              "      fill: #D2E3FC;\n",
              "    }\n",
              "\n",
              "    [theme=dark] .colab-df-convert:hover {\n",
              "      background-color: #434B5C;\n",
              "      box-shadow: 0px 1px 3px 1px rgba(0, 0, 0, 0.15);\n",
              "      filter: drop-shadow(0px 1px 2px rgba(0, 0, 0, 0.3));\n",
              "      fill: #FFFFFF;\n",
              "    }\n",
              "  </style>\n",
              "\n",
              "    <script>\n",
              "      const buttonEl =\n",
              "        document.querySelector('#df-3fcf3cff-fe02-45b0-99d3-dc55e22320f4 button.colab-df-convert');\n",
              "      buttonEl.style.display =\n",
              "        google.colab.kernel.accessAllowed ? 'block' : 'none';\n",
              "\n",
              "      async function convertToInteractive(key) {\n",
              "        const element = document.querySelector('#df-3fcf3cff-fe02-45b0-99d3-dc55e22320f4');\n",
              "        const dataTable =\n",
              "          await google.colab.kernel.invokeFunction('convertToInteractive',\n",
              "                                                    [key], {});\n",
              "        if (!dataTable) return;\n",
              "\n",
              "        const docLinkHtml = 'Like what you see? Visit the ' +\n",
              "          '<a target=\"_blank\" href=https://colab.research.google.com/notebooks/data_table.ipynb>data table notebook</a>'\n",
              "          + ' to learn more about interactive tables.';\n",
              "        element.innerHTML = '';\n",
              "        dataTable['output_type'] = 'display_data';\n",
              "        await google.colab.output.renderOutput(dataTable, element);\n",
              "        const docLink = document.createElement('div');\n",
              "        docLink.innerHTML = docLinkHtml;\n",
              "        element.appendChild(docLink);\n",
              "      }\n",
              "    </script>\n",
              "  </div>\n",
              "\n",
              "\n",
              "<div id=\"df-6210da46-681e-4216-a085-c3af720edbcb\">\n",
              "  <button class=\"colab-df-quickchart\" onclick=\"quickchart('df-6210da46-681e-4216-a085-c3af720edbcb')\"\n",
              "            title=\"Suggest charts\"\n",
              "            style=\"display:none;\">\n",
              "\n",
              "<svg xmlns=\"http://www.w3.org/2000/svg\" height=\"24px\"viewBox=\"0 0 24 24\"\n",
              "     width=\"24px\">\n",
              "    <g>\n",
              "        <path d=\"M19 3H5c-1.1 0-2 .9-2 2v14c0 1.1.9 2 2 2h14c1.1 0 2-.9 2-2V5c0-1.1-.9-2-2-2zM9 17H7v-7h2v7zm4 0h-2V7h2v10zm4 0h-2v-4h2v4z\"/>\n",
              "    </g>\n",
              "</svg>\n",
              "  </button>\n",
              "\n",
              "<style>\n",
              "  .colab-df-quickchart {\n",
              "      --bg-color: #E8F0FE;\n",
              "      --fill-color: #1967D2;\n",
              "      --hover-bg-color: #E2EBFA;\n",
              "      --hover-fill-color: #174EA6;\n",
              "      --disabled-fill-color: #AAA;\n",
              "      --disabled-bg-color: #DDD;\n",
              "  }\n",
              "\n",
              "  [theme=dark] .colab-df-quickchart {\n",
              "      --bg-color: #3B4455;\n",
              "      --fill-color: #D2E3FC;\n",
              "      --hover-bg-color: #434B5C;\n",
              "      --hover-fill-color: #FFFFFF;\n",
              "      --disabled-bg-color: #3B4455;\n",
              "      --disabled-fill-color: #666;\n",
              "  }\n",
              "\n",
              "  .colab-df-quickchart {\n",
              "    background-color: var(--bg-color);\n",
              "    border: none;\n",
              "    border-radius: 50%;\n",
              "    cursor: pointer;\n",
              "    display: none;\n",
              "    fill: var(--fill-color);\n",
              "    height: 32px;\n",
              "    padding: 0;\n",
              "    width: 32px;\n",
              "  }\n",
              "\n",
              "  .colab-df-quickchart:hover {\n",
              "    background-color: var(--hover-bg-color);\n",
              "    box-shadow: 0 1px 2px rgba(60, 64, 67, 0.3), 0 1px 3px 1px rgba(60, 64, 67, 0.15);\n",
              "    fill: var(--button-hover-fill-color);\n",
              "  }\n",
              "\n",
              "  .colab-df-quickchart-complete:disabled,\n",
              "  .colab-df-quickchart-complete:disabled:hover {\n",
              "    background-color: var(--disabled-bg-color);\n",
              "    fill: var(--disabled-fill-color);\n",
              "    box-shadow: none;\n",
              "  }\n",
              "\n",
              "  .colab-df-spinner {\n",
              "    border: 2px solid var(--fill-color);\n",
              "    border-color: transparent;\n",
              "    border-bottom-color: var(--fill-color);\n",
              "    animation:\n",
              "      spin 1s steps(1) infinite;\n",
              "  }\n",
              "\n",
              "  @keyframes spin {\n",
              "    0% {\n",
              "      border-color: transparent;\n",
              "      border-bottom-color: var(--fill-color);\n",
              "      border-left-color: var(--fill-color);\n",
              "    }\n",
              "    20% {\n",
              "      border-color: transparent;\n",
              "      border-left-color: var(--fill-color);\n",
              "      border-top-color: var(--fill-color);\n",
              "    }\n",
              "    30% {\n",
              "      border-color: transparent;\n",
              "      border-left-color: var(--fill-color);\n",
              "      border-top-color: var(--fill-color);\n",
              "      border-right-color: var(--fill-color);\n",
              "    }\n",
              "    40% {\n",
              "      border-color: transparent;\n",
              "      border-right-color: var(--fill-color);\n",
              "      border-top-color: var(--fill-color);\n",
              "    }\n",
              "    60% {\n",
              "      border-color: transparent;\n",
              "      border-right-color: var(--fill-color);\n",
              "    }\n",
              "    80% {\n",
              "      border-color: transparent;\n",
              "      border-right-color: var(--fill-color);\n",
              "      border-bottom-color: var(--fill-color);\n",
              "    }\n",
              "    90% {\n",
              "      border-color: transparent;\n",
              "      border-bottom-color: var(--fill-color);\n",
              "    }\n",
              "  }\n",
              "</style>\n",
              "\n",
              "  <script>\n",
              "    async function quickchart(key) {\n",
              "      const quickchartButtonEl =\n",
              "        document.querySelector('#' + key + ' button');\n",
              "      quickchartButtonEl.disabled = true;  // To prevent multiple clicks.\n",
              "      quickchartButtonEl.classList.add('colab-df-spinner');\n",
              "      try {\n",
              "        const charts = await google.colab.kernel.invokeFunction(\n",
              "            'suggestCharts', [key], {});\n",
              "      } catch (error) {\n",
              "        console.error('Error during call to suggestCharts:', error);\n",
              "      }\n",
              "      quickchartButtonEl.classList.remove('colab-df-spinner');\n",
              "      quickchartButtonEl.classList.add('colab-df-quickchart-complete');\n",
              "    }\n",
              "    (() => {\n",
              "      let quickchartButtonEl =\n",
              "        document.querySelector('#df-6210da46-681e-4216-a085-c3af720edbcb button');\n",
              "      quickchartButtonEl.style.display =\n",
              "        google.colab.kernel.accessAllowed ? 'block' : 'none';\n",
              "    })();\n",
              "  </script>\n",
              "</div>\n",
              "\n",
              "    </div>\n",
              "  </div>\n"
            ],
            "application/vnd.google.colaboratory.intrinsic+json": {
              "type": "dataframe",
              "variable_name": "ratings2"
            }
          },
          "metadata": {},
          "execution_count": 11
        }
      ]
    },
    {
      "cell_type": "markdown",
      "source": [
        "## 2.   Split the small data set into a training and a test set.\n",
        "\n",
        "\n",
        "\n"
      ],
      "metadata": {
        "id": "oKYaHmRXrN_J"
      },
      "id": "oKYaHmRXrN_J"
    },
    {
      "cell_type": "code",
      "source": [
        "len(ratings2)"
      ],
      "metadata": {
        "colab": {
          "base_uri": "https://localhost:8080/"
        },
        "id": "o_biLcVCfjpH",
        "outputId": "13e37505-cdc9-48de-a46b-b68b9a2c6822"
      },
      "id": "o_biLcVCfjpH",
      "execution_count": 13,
      "outputs": [
        {
          "output_type": "execute_result",
          "data": {
            "text/plain": [
              "100836"
            ]
          },
          "metadata": {},
          "execution_count": 13
        }
      ]
    },
    {
      "cell_type": "code",
      "source": [
        "def DataStructure_split(Data):\n",
        "  ratings_reader=Data.to_numpy()\n",
        "  user_index=0\n",
        "  movie_index=0\n",
        "  map_user_to_index={}\n",
        "  map_index_to_user=[]\n",
        "  map_movie_to_index={}\n",
        "  map_index_to_movie=[]\n",
        "  data_by_user_index_train=[]\n",
        "  data_by_user_index_test=[]\n",
        "  data_by_movie_index_train=[]\n",
        "  data_by_movie_index_test=[]\n",
        "\n",
        "  for i in ratings_reader:\n",
        "    if i[0] not in map_user_to_index:\n",
        "      map_user_to_index[i[0]]=user_index\n",
        "      map_index_to_user.append(i[0])\n",
        "      data_by_user_index_train.append([])\n",
        "      data_by_user_index_test.append([])\n",
        "      user_index += 1\n",
        "\n",
        "    if i[1] not in map_movie_to_index:\n",
        "      map_movie_to_index[i[1]]=movie_index\n",
        "      map_index_to_movie.append(i[1])\n",
        "      data_by_movie_index_train.append([])\n",
        "      data_by_movie_index_test.append([])\n",
        "      movie_index += 1\n",
        "\n",
        "    up_user_index = map_user_to_index[i[0]]\n",
        "    up_movie_index = map_movie_to_index[i[1]]\n",
        "\n",
        "    p=random.random()\n",
        "    if p<0.75:\n",
        "      data_by_user_index_train[up_user_index].append((up_movie_index,i[2]))\n",
        "      data_by_movie_index_train[up_movie_index].append((up_user_index,i[2]))\n",
        "      data_by_user_index_test[up_user_index].append(())\n",
        "      data_by_movie_index_test[up_movie_index].append(())\n",
        "    else:\n",
        "      data_by_user_index_test[up_user_index].append((up_movie_index,i[2]))\n",
        "      data_by_movie_index_test[up_movie_index].append((up_user_index,i[2]))\n",
        "      data_by_user_index_train[up_user_index].append(())\n",
        "      data_by_movie_index_train[up_movie_index].append(())\n",
        "  return data_by_user_index_train ,data_by_movie_index_train, data_by_user_index_test, data_by_movie_index_test"
      ],
      "metadata": {
        "id": "HPzpPe082Fsp"
      },
      "id": "HPzpPe082Fsp",
      "execution_count": 5,
      "outputs": []
    },
    {
      "cell_type": "code",
      "source": [
        "U2_train,M2_train,U2_test,M2_test=DataStructure_split(Data=ratings2)"
      ],
      "metadata": {
        "id": "PU2aRUXp7h68"
      },
      "id": "PU2aRUXp7h68",
      "execution_count": 13,
      "outputs": []
    },
    {
      "cell_type": "code",
      "source": [
        "\n",
        "'''def Split(Data):\n",
        "  Data_train=[]\n",
        "  Data_test=[]\n",
        "  m=len(Data)\n",
        "  for i in range(m):\n",
        "    Data_train.append([])\n",
        "    Data_test.append([])\n",
        "    random.seed(42)\n",
        "    for j in range(len(Data[i])):\n",
        "      p =random.random()\n",
        "      if p<0.9:\n",
        "        Data_train[i].append(Data[i][j])\n",
        "        Data_test[i].append(())\n",
        "      else:\n",
        "        Data_test[i].append(Data[i][j])\n",
        "        Data_train[i].append(())\n",
        "  return Data_train,Data_test'''"
      ],
      "metadata": {
        "id": "VgBqvmedoN8a",
        "colab": {
          "base_uri": "https://localhost:8080/",
          "height": 70
        },
        "outputId": "a6022595-b721-4e4b-945c-dc69979e185c"
      },
      "id": "VgBqvmedoN8a",
      "execution_count": null,
      "outputs": [
        {
          "output_type": "execute_result",
          "data": {
            "text/plain": [
              "'def Split(Data):\\n  Data_train=[]\\n  Data_test=[]\\n  m=len(Data)\\n  for i in range(m):\\n    Data_train.append([])\\n    Data_test.append([])\\n    random.seed(42)\\n    for j in range(len(Data[i])):\\n      p =random.random()\\n      if p<0.9:\\n        Data_train[i].append(Data[i][j])\\n        Data_test[i].append(())\\n      else:\\n        Data_test[i].append(Data[i][j])\\n        Data_train[i].append(())\\n  return Data_train,Data_test'"
            ],
            "application/vnd.google.colaboratory.intrinsic+json": {
              "type": "string"
            }
          },
          "metadata": {},
          "execution_count": 11
        }
      ]
    },
    {
      "cell_type": "markdown",
      "source": [
        "##   data_by_user_train  and  data_by_user_test\n",
        "\n"
      ],
      "metadata": {
        "id": "mbmnxDRCrpUs"
      },
      "id": "mbmnxDRCrpUs"
    },
    {
      "cell_type": "markdown",
      "source": [
        "##   data_by_movie_train  and  data_by_movie_test"
      ],
      "metadata": {
        "id": "FuQLoWNEzGGY"
      },
      "id": "FuQLoWNEzGGY"
    },
    {
      "cell_type": "markdown",
      "source": [
        "##   Build a model that finds maximum likelihood estimate for user + item biases with alternating least squares"
      ],
      "metadata": {
        "id": "mkVVCluJ0A-a"
      },
      "id": "mkVVCluJ0A-a"
    },
    {
      "cell_type": "code",
      "source": [
        "    # Calculation for test data_set\n",
        "    #loss_test=Loss_function(data_by_user_test,user_biases,items_biases)\n",
        "    #mrse_test=MSRE(data_by_user_test,user_biases,items_biases)\n",
        "    # Updating for the test data_set\n",
        "    #list_of_rmse_test.append(mrse_test)\n",
        "    #list_of_losses_test.append(loss_test)"
      ],
      "metadata": {
        "id": "cJkNIx1vV_lO"
      },
      "id": "cJkNIx1vV_lO",
      "execution_count": null,
      "outputs": []
    },
    {
      "cell_type": "code",
      "source": [
        "U2_train[0]"
      ],
      "metadata": {
        "colab": {
          "base_uri": "https://localhost:8080/"
        },
        "id": "nCSH4B11PVHM",
        "outputId": "a693a2fe-de84-40c1-e239-c207f8df8d0e",
        "collapsed": true
      },
      "id": "nCSH4B11PVHM",
      "execution_count": 16,
      "outputs": [
        {
          "output_type": "execute_result",
          "data": {
            "text/plain": [
              "[(0, 4.0),\n",
              " (),\n",
              " (2, 4.0),\n",
              " (3, 5.0),\n",
              " (4, 5.0),\n",
              " (5, 3.0),\n",
              " (6, 5.0),\n",
              " (7, 4.0),\n",
              " (8, 5.0),\n",
              " (9, 5.0),\n",
              " (),\n",
              " (11, 5.0),\n",
              " (12, 3.0),\n",
              " (13, 5.0),\n",
              " (14, 4.0),\n",
              " (),\n",
              " (16, 3.0),\n",
              " (17, 3.0),\n",
              " (18, 5.0),\n",
              " (),\n",
              " (20, 4.0),\n",
              " (21, 5.0),\n",
              " (22, 4.0),\n",
              " (23, 3.0),\n",
              " (24, 4.0),\n",
              " (25, 5.0),\n",
              " (26, 4.0),\n",
              " (27, 3.0),\n",
              " (28, 5.0),\n",
              " (29, 4.0),\n",
              " (),\n",
              " (31, 5.0),\n",
              " (32, 4.0),\n",
              " (33, 4.0),\n",
              " (),\n",
              " (35, 5.0),\n",
              " (36, 5.0),\n",
              " (37, 3.0),\n",
              " (38, 5.0),\n",
              " (39, 3.0),\n",
              " (40, 4.0),\n",
              " (),\n",
              " (42, 3.0),\n",
              " (43, 4.0),\n",
              " (),\n",
              " (45, 5.0),\n",
              " (46, 5.0),\n",
              " (47, 4.0),\n",
              " (),\n",
              " (49, 3.0),\n",
              " (),\n",
              " (51, 5.0),\n",
              " (52, 5.0),\n",
              " (53, 5.0),\n",
              " (54, 3.0),\n",
              " (),\n",
              " (56, 5.0),\n",
              " (57, 4.0),\n",
              " (58, 5.0),\n",
              " (),\n",
              " (60, 5.0),\n",
              " (),\n",
              " (),\n",
              " (63, 4.0),\n",
              " (64, 5.0),\n",
              " (65, 5.0),\n",
              " (66, 4.0),\n",
              " (67, 5.0),\n",
              " (68, 5.0),\n",
              " (69, 5.0),\n",
              " (70, 5.0),\n",
              " (71, 5.0),\n",
              " (72, 4.0),\n",
              " (),\n",
              " (),\n",
              " (75, 4.0),\n",
              " (76, 2.0),\n",
              " (77, 5.0),\n",
              " (),\n",
              " (),\n",
              " (),\n",
              " (81, 5.0),\n",
              " (),\n",
              " (83, 3.0),\n",
              " (84, 4.0),\n",
              " (85, 5.0),\n",
              " (86, 5.0),\n",
              " (87, 5.0),\n",
              " (88, 5.0),\n",
              " (89, 5.0),\n",
              " (90, 5.0),\n",
              " (91, 4.0),\n",
              " (92, 3.0),\n",
              " (93, 3.0),\n",
              " (),\n",
              " (95, 3.0),\n",
              " (96, 4.0),\n",
              " (97, 4.0),\n",
              " (98, 5.0),\n",
              " (99, 4.0),\n",
              " (100, 5.0),\n",
              " (),\n",
              " (),\n",
              " (103, 5.0),\n",
              " (104, 4.0),\n",
              " (105, 5.0),\n",
              " (106, 3.0),\n",
              " (),\n",
              " (),\n",
              " (),\n",
              " (110, 4.0),\n",
              " (111, 5.0),\n",
              " (112, 4.0),\n",
              " (),\n",
              " (114, 5.0),\n",
              " (115, 5.0),\n",
              " (116, 4.0),\n",
              " (117, 4.0),\n",
              " (),\n",
              " (119, 4.0),\n",
              " (),\n",
              " (121, 4.0),\n",
              " (122, 5.0),\n",
              " (123, 4.0),\n",
              " (124, 5.0),\n",
              " (),\n",
              " (126, 5.0),\n",
              " (127, 5.0),\n",
              " (128, 5.0),\n",
              " (129, 3.0),\n",
              " (130, 5.0),\n",
              " (),\n",
              " (132, 4.0),\n",
              " (133, 4.0),\n",
              " (),\n",
              " (135, 5.0),\n",
              " (136, 5.0),\n",
              " (137, 5.0),\n",
              " (138, 5.0),\n",
              " (139, 4.0),\n",
              " (140, 5.0),\n",
              " (141, 4.0),\n",
              " (142, 4.0),\n",
              " (143, 2.0),\n",
              " (144, 4.0),\n",
              " (),\n",
              " (146, 5.0),\n",
              " (),\n",
              " (),\n",
              " (),\n",
              " (150, 4.0),\n",
              " (151, 5.0),\n",
              " (152, 2.0),\n",
              " (153, 5.0),\n",
              " (),\n",
              " (),\n",
              " (),\n",
              " (),\n",
              " (158, 5.0),\n",
              " (159, 5.0),\n",
              " (160, 4.0),\n",
              " (161, 4.0),\n",
              " (162, 5.0),\n",
              " (163, 3.0),\n",
              " (164, 5.0),\n",
              " (),\n",
              " (166, 5.0),\n",
              " (167, 5.0),\n",
              " (),\n",
              " (169, 4.0),\n",
              " (),\n",
              " (171, 4.0),\n",
              " (172, 4.0),\n",
              " (173, 5.0),\n",
              " (),\n",
              " (),\n",
              " (176, 5.0),\n",
              " (177, 3.0),\n",
              " (178, 5.0),\n",
              " (),\n",
              " (180, 5.0),\n",
              " (181, 5.0),\n",
              " (182, 4.0),\n",
              " (),\n",
              " (184, 5.0),\n",
              " (),\n",
              " (186, 5.0),\n",
              " (),\n",
              " (),\n",
              " (189, 5.0),\n",
              " (),\n",
              " (191, 5.0),\n",
              " (),\n",
              " (193, 4.0),\n",
              " (194, 5.0),\n",
              " (195, 5.0),\n",
              " (),\n",
              " (),\n",
              " (198, 5.0),\n",
              " (199, 5.0),\n",
              " (200, 5.0),\n",
              " (201, 5.0),\n",
              " (202, 4.0),\n",
              " (203, 5.0),\n",
              " (204, 4.0),\n",
              " (),\n",
              " (206, 3.0),\n",
              " (),\n",
              " (208, 5.0),\n",
              " (209, 5.0),\n",
              " (210, 5.0),\n",
              " (211, 4.0),\n",
              " (212, 4.0),\n",
              " (213, 5.0),\n",
              " (214, 5.0),\n",
              " (215, 5.0),\n",
              " (216, 4.0),\n",
              " (217, 4.0),\n",
              " (218, 4.0),\n",
              " (219, 5.0),\n",
              " (220, 4.0),\n",
              " (),\n",
              " (222, 5.0),\n",
              " (),\n",
              " (224, 5.0),\n",
              " (225, 5.0),\n",
              " (226, 4.0),\n",
              " (227, 4.0),\n",
              " (),\n",
              " (229, 4.0),\n",
              " (230, 4.0),\n",
              " (231, 5.0)]"
            ]
          },
          "metadata": {},
          "execution_count": 16
        }
      ]
    },
    {
      "cell_type": "code",
      "source": [
        "## Loss function\n",
        "def Loss_function(Data,user_biases,items_biases,lambdA,gamma):\n",
        "  U=len(Data)\n",
        "  loss=0\n",
        "  for u in range(U):\n",
        "    for Data_u in Data[u]:\n",
        "      if Data_u==():\n",
        "        continue\n",
        "      else:\n",
        "        (m,r)=Data_u\n",
        "        predict=user_biases[u]+items_biases[m]\n",
        "        loss+= (r-predict)**2\n",
        "  loss=(0.5)*lambdA*loss\n",
        "  u_b=sum([x**2 for x in user_biases])\n",
        "  m_b=sum([x**2 for x in items_biases])\n",
        "  total_loss=(loss+0.5*gamma*(u_b+m_b))\n",
        "  return total_loss\n",
        "\n",
        "## RMSE\n",
        "def MSRE(Data,user_biases,items_biases):\n",
        "  counter=0\n",
        "  error=0\n",
        "  for u in range(len(Data)):\n",
        "    for Data_u in Data[u]:\n",
        "      if Data_u==():\n",
        "        continue\n",
        "      else:\n",
        "        (m,r)=Data_u\n",
        "        error+=(r-(user_biases[u]+items_biases[m]))**2\n",
        "        counter+=1\n",
        "  error=error/counter if counter > 0 else 0\n",
        "  return np.sqrt(error)"
      ],
      "metadata": {
        "collapsed": true,
        "id": "teAz4-tq7Tza"
      },
      "id": "teAz4-tq7Tza",
      "execution_count": 14,
      "outputs": []
    },
    {
      "cell_type": "code",
      "source": [
        "y=np.zeros(5)\n",
        "x=y[1]=2\n",
        "x,y"
      ],
      "metadata": {
        "colab": {
          "base_uri": "https://localhost:8080/"
        },
        "id": "Y6ATxahFrEEO",
        "outputId": "3861ca2e-d0b1-4e4c-df6e-348a88753e7f"
      },
      "id": "Y6ATxahFrEEO",
      "execution_count": 15,
      "outputs": [
        {
          "output_type": "execute_result",
          "data": {
            "text/plain": [
              "(2, array([0., 2., 0., 0., 0.]))"
            ]
          },
          "metadata": {},
          "execution_count": 15
        }
      ]
    },
    {
      "cell_type": "code",
      "source": [
        "def model (Data_by_user, Data_by_movie,iteration_number,lambdA,gamma):\n",
        "  list_of_rmse = []\n",
        "  list_of_losses= []\n",
        "  U=len(Data_by_user)\n",
        "  M=len(Data_by_movie)\n",
        "  users_biases=np.random.randn(U)\n",
        "  items_biases=np.random.randn(M)\n",
        "  for i in tqdm(range(iteration_number),desc='interation in progress'):\n",
        "    ## user_bias update\n",
        "    for u in range(U):\n",
        "      u_bias=0\n",
        "      item_counter=0\n",
        "      for Data_u in Data_by_user[u]:\n",
        "        if Data_u==():\n",
        "          continue\n",
        "        else:\n",
        "          (m,r)=Data_u\n",
        "          u_bias+=(r-items_biases[m])\n",
        "          item_counter+=1\n",
        "      users_biases[u]=(lambdA*u_bias)/(lambdA*item_counter+gamma)\n",
        "\n",
        "    ## movie_bias update\n",
        "    for m in range(M):\n",
        "      m_bias=0\n",
        "      user_counter=0\n",
        "      for Data_m in Data_by_movie[m]:\n",
        "        if Data_m==():\n",
        "          continue\n",
        "        else:\n",
        "          (u,r)=Data_m\n",
        "          m_bias+=(r-users_biases[u])\n",
        "          user_counter+=1\n",
        "      items_biases[m]=(lambdA*m_bias)/(lambdA*user_counter+gamma)\n",
        "\n",
        "    # Calculation and  Updating of Losss\n",
        "    losses=Loss_function(Data_by_user,users_biases,items_biases,lambdA,gamma)\n",
        "    list_of_losses.append(losses)\n",
        "\n",
        "    # Calculation and  Updating of Losss\n",
        "    mrse=MSRE(Data_by_user,users_biases,items_biases)\n",
        "    list_of_rmse.append(mrse)\n",
        "\n",
        "  return list_of_rmse,list_of_losses"
      ],
      "metadata": {
        "id": "ZJ2LVcdFwZnH"
      },
      "id": "ZJ2LVcdFwZnH",
      "execution_count": 16,
      "outputs": []
    },
    {
      "cell_type": "code",
      "source": [
        "list_of_rmse_train,list_of_losses_train=model (Data_by_user=U2_train, Data_by_movie=M2_train,iteration_number=10,lambdA=0.1,gamma=0.001)"
      ],
      "metadata": {
        "colab": {
          "base_uri": "https://localhost:8080/"
        },
        "collapsed": true,
        "id": "KtlScYr3z0Iu",
        "outputId": "8a5d0e84-3f31-4765-8c44-0bf9af2d8805"
      },
      "id": "KtlScYr3z0Iu",
      "execution_count": 17,
      "outputs": [
        {
          "output_type": "stream",
          "name": "stderr",
          "text": [
            "interation in progress: 100%|██████████| 10/10 [00:02<00:00,  4.45it/s]\n"
          ]
        }
      ]
    },
    {
      "cell_type": "code",
      "source": [
        "list_of_rmse_test,list_of_losses_test=model(Data_by_user=U2_test,Data_by_movie=M2_test,iteration_number=10,lambdA=0.1,gamma=0.001)"
      ],
      "metadata": {
        "colab": {
          "base_uri": "https://localhost:8080/"
        },
        "collapsed": true,
        "id": "H8ZVH809MN1h",
        "outputId": "552d77a3-df81-45d0-e58e-5d1a7908df00"
      },
      "id": "H8ZVH809MN1h",
      "execution_count": 18,
      "outputs": [
        {
          "output_type": "stream",
          "name": "stderr",
          "text": [
            "interation in progress: 100%|██████████| 10/10 [00:00<00:00, 11.29it/s]\n"
          ]
        }
      ]
    },
    {
      "cell_type": "code",
      "source": [
        "## The plotting\n",
        "fig,axes=plt.subplots(2,2,figsize=(8,8))\n",
        "## train plot\n",
        "axes[0,0].plot(list_of_rmse_train,label='RMSE_train')\n",
        "#axes[0,0].plot(list_of_rmse_test,label='RMSE_test')\n",
        "axes[0,0].set_ylim()\n",
        "axes[0,0].legend()\n",
        "#axes[0,0].set_title('rmse of train')\n",
        "axes[0,0].set_xlabel(\"num_of_iteration\")\n",
        "axes[0,0].set_ylabel('error_value')\n",
        "\n",
        "#axes[0].plot(list_of_rmse_test,label='RMSE_test')\n",
        "axes[0,1].plot(list_of_rmse_test,label='RMSE_test',color='orange')\n",
        "axes[0,1].set_ylim()\n",
        "axes[0,1].legend()\n",
        "#axes[0,1].set_title('rmse of test set')\n",
        "axes[0,1].set_xlabel(\"num_of_iteration\")\n",
        "axes[0,1].set_ylabel('error_value')\n",
        "\n",
        "## test plot (list_of_losses_train,label='losses_train')\n",
        "axes[1,0].plot(list_of_losses_train,label='losses_train')\n",
        "#axes[1].plot(list_of_losses_test,label='losses_test')\n",
        "#axes[1,0].set_title( 'loss of train set')\n",
        "axes[1,0].set_xlabel(\"num_of_iteration\")\n",
        "axes[1,0].set_ylabel('error_value')\n",
        "\n",
        "## test plot (list_of_losses_test,label='losses_test')\n",
        "#axes[1].plot(list_of_losses_train,label='losses_train')\n",
        "axes[1,1].plot(list_of_losses_test,label='losses_test',color='orange')\n",
        "#axes[1,1].set_title( 'loss of test set')\n",
        "axes[1,1].set_xlabel(\"num_of_iteration\")\n",
        "axes[1,1].set_ylabel('error_value')\n",
        "\n",
        "plt.tight_layout()\n",
        "plt.savefig('Pratice2.pdf')\n",
        "plt.show()"
      ],
      "metadata": {
        "id": "_F69GL-st7VP",
        "colab": {
          "base_uri": "https://localhost:8080/",
          "height": 806
        },
        "collapsed": true,
        "outputId": "468495c5-8bea-4791-812e-47bff9c82c0b"
      },
      "id": "_F69GL-st7VP",
      "execution_count": 20,
      "outputs": [
        {
          "output_type": "display_data",
          "data": {
            "text/plain": [
              "<Figure size 800x800 with 4 Axes>"
            ],
            "image/png": "[encoded data removed]"
          },
          "metadata": {}
        }
      ]
    },
    {
      "cell_type": "markdown",
      "source": [
        "# Pratice 3"
      ],
      "metadata": {
        "id": "qUFkhcMBXN3F"
      },
      "id": "qUFkhcMBXN3F"
    },
    {
      "cell_type": "markdown",
      "source": [
        "## A model with embeddings"
      ],
      "metadata": {
        "id": "6G3m2U2FSIV2"
      },
      "id": "6G3m2U2FSIV2"
    },
    {
      "cell_type": "code",
      "source": [
        "## Loss function\n",
        "def Embeddings_Loss_function(Data,user_vector,movie_vector,users_biases,items_biases,lambdA,gamma):\n",
        "  U=len(Data)\n",
        "  #users_biases=np.random.randn(U)\n",
        "  #items_biases=np.random.randn(M)\n",
        "  loss=0\n",
        "  for u in range(U):\n",
        "    for Data_u in Data[u]:\n",
        "      if Data_u==():\n",
        "        continue\n",
        "      else:\n",
        "        (m,r)=Data_u\n",
        "        predict= np.dot(user_vector[u].T,movie_vector[m])+ users_biases[u]+items_biases[m]\n",
        "        loss+= (r-predict)**2\n",
        "  loss=(0.5)*lambdA*loss\n",
        "  u_b=sum([x**2 for x in users_biases])\n",
        "  m_b=sum([x**2 for x in items_biases])\n",
        "  total_loss=(loss+0.5*gamma*(u_b+m_b))\n",
        "  return total_loss"
      ],
      "metadata": {
        "id": "gOE7oie6UPd-"
      },
      "id": "gOE7oie6UPd-",
      "execution_count": 21,
      "outputs": []
    },
    {
      "cell_type": "code",
      "source": [
        "## RMSE\n",
        "def Embeddings_MSRE(Data,user_vector,movie_vector,users_biases,items_biases):\n",
        "  counter=0\n",
        "  error=0\n",
        "  for u in range(len(Data)):\n",
        "    for Data_u in Data[u]:\n",
        "      if Data_u==():\n",
        "        continue\n",
        "      else:\n",
        "        (m,r)=Data_u\n",
        "        error+=(r-(np.dot(user_vector[u].T,movie_vector[m])+users_biases[u]+items_biases[m]))**2\n",
        "        counter+=1\n",
        "  error=error/counter if counter > 0 else 0\n",
        "  return np.sqrt(error)"
      ],
      "metadata": {
        "id": "UeI43BEUaMWP"
      },
      "id": "UeI43BEUaMWP",
      "execution_count": 22,
      "outputs": []
    },
    {
      "cell_type": "code",
      "source": [],
      "metadata": {
        "id": "Vfxi8qFHcm7D"
      },
      "id": "Vfxi8qFHcm7D",
      "execution_count": 26,
      "outputs": []
    },
    {
      "cell_type": "code",
      "source": [
        "def Embedding_model (Data_by_user, Data_by_movie,iteration_number,lambdA,gamma,tao,k):\n",
        "  list_of_rmse = []\n",
        "  list_of_losses= []\n",
        "  U=len(Data_by_user)\n",
        "  M=len(Data_by_movie)\n",
        "  users_biases=np.random.randn(U)\n",
        "  items_biases=np.random.randn(M)\n",
        "  std=np.sqrt(k)\n",
        "  user_vector=np.random.normal(loc=0, scale = 1/std, size=(U,k))\n",
        "  movie_vector=np.random.normal(loc=0, scale = 1/std, size=(M,k))\n",
        "  for i in tqdm(range(iteration_number),desc='interation in progress'):\n",
        "    ## user_bias update\n",
        "    for u in range(U):\n",
        "      #SumVV=np.zeros((k,k))\n",
        "      #SumrV=np.zeros(k)\n",
        "      u_bias=0\n",
        "      item_counter=0\n",
        "      for Data_u in Data_by_user[u]:\n",
        "        if Data_u==():\n",
        "          continue\n",
        "        else:\n",
        "          (m,r)=Data_u\n",
        "          u_bias+=(r-(np.dot(user_vector[u].T,movie_vector[m])+items_biases[m]))\n",
        "          #diff= r-user_latent[u]-movie_latent[m]\n",
        "          #SumrV+=diff*movie_latent[m]\n",
        "          #SumVV+=np.dot(movie_latent[m],movie_latent[m])\n",
        "          item_counter+=1\n",
        "      users_biases[u]=(lambdA*u_bias)/(lambdA*item_counter+gamma)\n",
        "      #user_latent[u]=np.dot(np.linalg.inv(lambdA*SumVV+gamma*np.eye(k)),lambdA*SumrV)\n",
        "\n",
        "    ## user_vector update\n",
        "    for u in range(U):\n",
        "      SumVV=np.zeros((k,k))\n",
        "      SumrV=np.zeros(k)\n",
        "      #u_bias=0\n",
        "      #item_counter=0\n",
        "      for Data_u in Data_by_user[u]:\n",
        "        if Data_u==():\n",
        "          continue\n",
        "        else:\n",
        "          (m,r)=Data_u\n",
        "          #u_bias+=(r-(np.dot(user_latent[u].T,movie_latent[m])+items_biases[m]))\n",
        "          diff= r-user_vector[u]-movie_vector[m]\n",
        "          SumrV+=diff*movie_vector[m]\n",
        "          SumVV+=np.outer(movie_vector[m],movie_vector[m])\n",
        "          #item_counter+=1\n",
        "      #users_biases[u]=(lambdA*u_bias)/(lambdA*item_counter+gamma)\n",
        "      user_vector[u]=np.dot(np.linalg.inv(lambdA*SumVV+tao*np.eye(k)),lambdA*SumrV)\n",
        "\n",
        "\n",
        "    ## movie_bias update\n",
        "    for m in range(M):\n",
        "      #SumUU=np.zeros((k,k))\n",
        "      #SumrU=np.zeros(k)\n",
        "      m_bias=0\n",
        "      user_counter=0\n",
        "      for Data_m in Data_by_movie[m]:\n",
        "        if Data_m==():\n",
        "          continue\n",
        "        else:\n",
        "          (u,r)=Data_m\n",
        "          m_bias+=(r-np.dot(user_vector[u].T,movie_vector[m])-users_biases[u])\n",
        "          #diff= r-users_biases[u]-items_biases[m]\n",
        "          #SumrU+=diff*user_latent[u]\n",
        "          #SumUU+=np.dot(user_latent[u],user_latent[u])\n",
        "          user_counter+=1\n",
        "      items_biases[m]=(lambdA*m_bias)/(lambdA*user_counter+gamma)\n",
        "      #movie_latent[m]=np.dot(np.linalg.inv(lambdA*SumUU+gamma*np.eye(k)),lambdA*SumrU)\n",
        "\n",
        "    ## movie_vector update\n",
        "    for m in range(M):\n",
        "      SumUU=np.zeros((k,k))\n",
        "      SumrU=np.zeros(k)\n",
        "      #m_bias=0\n",
        "      #user_counter=0\n",
        "      for Data_m in Data_by_movie[m]:\n",
        "        if Data_m==():\n",
        "          continue\n",
        "        else:\n",
        "          (u,r)=Data_m\n",
        "          #m_bias+=(r-np.dot(user_vector[u].T,movie_vector[m])-users_biases[u])\n",
        "          diff= r-users_biases[u]-items_biases[m]\n",
        "          SumrU+=diff*user_vector[u]\n",
        "          SumUU+=np.outer(user_vector[u],user_vector[u])\n",
        "          #user_counter+=1\n",
        "      #items_biases[m]=(lambdA*m_bias)/(lambdA*user_counter+gamma)\n",
        "      movie_vector[m]=np.dot(np.linalg.inv(lambdA*SumUU+tao*np.eye(k)),lambdA*SumrU)\n",
        "\n",
        "    # Calculation and Updating Loss\n",
        "    losses=Embeddings_Loss_function(Data_by_user,user_vector,movie_vector,users_biases,items_biases,lambdA,gamma)\n",
        "    list_of_losses.append(losses)\n",
        "    # Calculation and Updating RMSE\n",
        "    mrse=Embeddings_MSRE(Data_by_user,user_vector,movie_vector,users_biases,items_biases)\n",
        "    list_of_rmse.append(mrse)\n",
        "  return list_of_rmse,list_of_losses"
      ],
      "metadata": {
        "id": "AwAGiuojgWwH"
      },
      "execution_count": 23,
      "outputs": [],
      "id": "AwAGiuojgWwH"
    },
    {
      "cell_type": "code",
      "source": [
        "list_rmse_train,list_losses_train=Embedding_model (Data_by_user= U2_train, Data_by_movie= M2_train,iteration_number=10,lambdA=0.01,gamma=0.001,tao=0.9,k=10)"
      ],
      "metadata": {
        "colab": {
          "base_uri": "https://localhost:8080/"
        },
        "id": "pnNq-DZRYU4Y",
        "outputId": "ac402409-ca32-408c-e9f8-624370bade84"
      },
      "id": "pnNq-DZRYU4Y",
      "execution_count": 24,
      "outputs": [
        {
          "output_type": "stream",
          "name": "stderr",
          "text": [
            "interation in progress: 100%|██████████| 10/10 [00:51<00:00,  5.14s/it]\n"
          ]
        }
      ]
    },
    {
      "cell_type": "code",
      "source": [
        "list_rmse_test,list_losses_test=Embedding_model (Data_by_user= U2_test, Data_by_movie= M2_test,iteration_number=10,lambdA=0.01,gamma=0.001,tao=0.9,k=10)"
      ],
      "metadata": {
        "colab": {
          "base_uri": "https://localhost:8080/"
        },
        "id": "BnaNmN-Pv5Dz",
        "outputId": "ac103c95-570f-4f44-9855-bb9ce7ef9c8a"
      },
      "id": "BnaNmN-Pv5Dz",
      "execution_count": 25,
      "outputs": [
        {
          "output_type": "stream",
          "name": "stderr",
          "text": [
            "interation in progress: 100%|██████████| 10/10 [00:18<00:00,  1.90s/it]\n"
          ]
        }
      ]
    },
    {
      "cell_type": "code",
      "source": [
        "## The plotting\n",
        "fig,axes=plt.subplots(2,2,figsize=(8,8))\n",
        "## train plot\n",
        "axes[0,0].plot(list_rmse_train,label='RMSE_train')\n",
        "#axes[0,0].plot(list_of_rmse_test,label='RMSE_test')\n",
        "axes[0,0].set_ylim()\n",
        "axes[0,0].legend()\n",
        "#axes[0,0].set_title('rmse of train')\n",
        "axes[0,0].set_xlabel(\"num_of_iteration\")\n",
        "axes[0,0].set_ylabel('error_value')\n",
        "\n",
        "#axes[0].plot(list_of_rmse_test,label='RMSE_test')\n",
        "axes[0,1].plot(list_rmse_test,label='RMSE_test',color='orange')\n",
        "axes[0,1].set_ylim()\n",
        "axes[0,1].legend()\n",
        "#axes[0,1].set_title('rmse of test set')\n",
        "axes[0,1].set_xlabel(\"num_of_iteration\")\n",
        "axes[0,1].set_ylabel('error_value')\n",
        "\n",
        "## test plot (list_of_losses_train,label='losses_train')\n",
        "axes[1,0].plot(list_losses_train,label='losses_train')\n",
        "#axes[1].plot(list_of_losses_test,label='losses_test')\n",
        "#axes[1,0].set_title( 'loss of train set')\n",
        "axes[1,0].set_xlabel(\"num_of_iteration\")\n",
        "axes[1,0].set_ylabel('error_value')\n",
        "\n",
        "## test plot (list_of_losses_test,label='losses_test')\n",
        "#axes[1].plot(list_of_losses_train,label='losses_train')\n",
        "axes[1,1].plot(list_losses_test,label='losses_test',color='orange')\n",
        "#axes[1,1].set_title( 'loss of test set')\n",
        "axes[1,1].set_xlabel(\"num_of_iteration\")\n",
        "axes[1,1].set_ylabel('error_value')\n",
        "\n",
        "plt.tight_layout()\n",
        "plt.savefig('Pratice3.pdf')\n",
        "plt.show()"
      ],
      "metadata": {
        "colab": {
          "base_uri": "https://localhost:8080/",
          "height": 807
        },
        "collapsed": true,
        "outputId": "550c1e08-2d0b-41e2-bc35-55e3c50cde9b",
        "id": "P5NHn6vfVLbZ"
      },
      "execution_count": 26,
      "outputs": [
        {
          "output_type": "display_data",
          "data": {
            "text/plain": [
              "<Figure size 800x800 with 4 Axes>"
            ],
            "image/png": "[encoded data removed]"
          },
          "metadata": {}
        }
      ],
      "id": "P5NHn6vfVLbZ"
    },
    {
      "cell_type": "markdown",
      "source": [
        "# Pratice 4"
      ],
      "metadata": {
        "id": "jfHqrmF9XVca"
      },
      "id": "jfHqrmF9XVca"
    },
    {
      "cell_type": "code",
      "source": [
        "U1_train,M1_train,U1_test,M1_test=DataStructure_split(Data=ratings)"
      ],
      "metadata": {
        "id": "B9hPeT9_mi-l"
      },
      "id": "B9hPeT9_mi-l",
      "execution_count": 6,
      "outputs": []
    },
    {
      "cell_type": "code",
      "source": [
        "def Big_Embeddings_MSRE(Data,user_vector,movie_vector,users_biases,items_biases):\n",
        "  counter=0\n",
        "  error=0\n",
        "  for u in range(len(Data)):\n",
        "    for Data_u in Data[u]:\n",
        "      if Data_u==():\n",
        "        continue\n",
        "      else:\n",
        "        (m,r)=Data_u\n",
        "        error+=(r-(np.dot(user_vector[u].T,movie_vector[m])+users_biases[u]+items_biases[m]))**2\n",
        "        counter+=1\n",
        "  error=error/counter if counter > 0 else 0\n",
        "  return np.sqrt(error)"
      ],
      "metadata": {
        "id": "167ro_S6cT9F"
      },
      "id": "167ro_S6cT9F",
      "execution_count": 7,
      "outputs": []
    },
    {
      "cell_type": "code",
      "source": [
        "def Big_Embedding_model (Data_by_user, Data_by_movie,iteration_number,lambdA,gamma,tao,k):\n",
        "  list_of_rmse = []\n",
        "  #list_of_losses= []\n",
        "  U=len(Data_by_user)\n",
        "  M=len(Data_by_movie)\n",
        "  users_biases=np.random.randn(U)\n",
        "  items_biases=np.random.randn(M)\n",
        "  std=np.sqrt(k)\n",
        "  user_vector=np.random.normal(loc=0, scale = 1/std, size=(U,k))\n",
        "  movie_vector=np.random.normal(loc=0, scale = 1/std, size=(M,k))\n",
        "  for i in tqdm(range(iteration_number),desc='interation in progress'):\n",
        "    ## user_bias update\n",
        "    for u in range(U):\n",
        "      #SumVV=np.zeros((k,k))\n",
        "      #SumrV=np.zeros(k)\n",
        "      u_bias=0\n",
        "      item_counter=0\n",
        "      for Data_u in Data_by_user[u]:\n",
        "        if Data_u==():\n",
        "          continue\n",
        "        else:\n",
        "          (m,r)=Data_u\n",
        "          u_bias+=(r-(np.dot(user_vector[u].T,movie_vector[m])+items_biases[m]))\n",
        "          #diff= r-user_latent[u]-movie_latent[m]\n",
        "          #SumrV+=diff*movie_latent[m]\n",
        "          #SumVV+=np.dot(movie_latent[m],movie_latent[m])\n",
        "          item_counter+=1\n",
        "      users_biases[u]=(lambdA*u_bias)/(lambdA*item_counter+gamma)\n",
        "      #user_latent[u]=np.dot(np.linalg.inv(lambdA*SumVV+gamma*np.eye(k)),lambdA*SumrV)\n",
        "\n",
        "    ## user_vector update\n",
        "    for u in range(U):\n",
        "      SumVV=np.zeros((k,k))\n",
        "      SumrV=np.zeros(k)\n",
        "      #u_bias=0\n",
        "      #item_counter=0\n",
        "      for Data_u in Data_by_user[u]:\n",
        "        if Data_u==():\n",
        "          continue\n",
        "        else:\n",
        "          (m,r)=Data_u\n",
        "          #u_bias+=(r-(np.dot(user_latent[u].T,movie_latent[m])+items_biases[m]))\n",
        "          diff= r-user_vector[u]-movie_vector[m]\n",
        "          SumrV+=diff*movie_vector[m]\n",
        "          SumVV+=np.outer(movie_vector[m],movie_vector[m])\n",
        "          #item_counter+=1\n",
        "      #users_biases[u]=(lambdA*u_bias)/(lambdA*item_counter+gamma)\n",
        "      user_vector[u]=np.dot(np.linalg.inv(lambdA*SumVV+tao*np.eye(k)),lambdA*SumrV)\n",
        "\n",
        "\n",
        "    ## movie_bias update\n",
        "    for m in range(M):\n",
        "      #SumUU=np.zeros((k,k))\n",
        "      #SumrU=np.zeros(k)\n",
        "      m_bias=0\n",
        "      user_counter=0\n",
        "      for Data_m in Data_by_movie[m]:\n",
        "        if Data_m==():\n",
        "          continue\n",
        "        else:\n",
        "          (u,r)=Data_m\n",
        "          m_bias+=(r-np.dot(user_vector[u].T,movie_vector[m])-users_biases[u])\n",
        "          #diff= r-users_biases[u]-items_biases[m]\n",
        "          #SumrU+=diff*user_latent[u]\n",
        "          #SumUU+=np.dot(user_latent[u],user_latent[u])\n",
        "          user_counter+=1\n",
        "      items_biases[m]=(lambdA*m_bias)/(lambdA*user_counter+gamma)\n",
        "      #movie_latent[m]=np.dot(np.linalg.inv(lambdA*SumUU+gamma*np.eye(k)),lambdA*SumrU)\n",
        "\n",
        "    ## movie_vector update\n",
        "    for m in range(M):\n",
        "      SumUU=np.zeros((k,k))\n",
        "      SumrU=np.zeros(k)\n",
        "      #m_bias=0\n",
        "      #user_counter=0\n",
        "      for Data_m in Data_by_movie[m]:\n",
        "        if Data_m==():\n",
        "          continue\n",
        "        else:\n",
        "          (u,r)=Data_m\n",
        "          #m_bias+=(r-np.dot(user_vector[u].T,movie_vector[m])-users_biases[u])\n",
        "          diff= r-users_biases[u]-items_biases[m]\n",
        "          SumrU+=diff*user_vector[u]\n",
        "          SumUU+=np.outer(user_vector[u],user_vector[u])\n",
        "          #user_counter+=1\n",
        "      #items_biases[m]=(lambdA*m_bias)/(lambdA*user_counter+gamma)\n",
        "      movie_vector[m]=np.dot(np.linalg.inv(lambdA*SumUU+tao*np.eye(k)),lambdA*SumrU)\n",
        "\n",
        "    # Calculation and Updating Loss\n",
        "    #losses=Embeddings_Loss_function(Data_by_user,user_vector,movie_vector,users_biases,items_biases,lambdA,gamma)\n",
        "    #list_of_losses.append(losses)\n",
        "    # Calculation and Updating RMSE\n",
        "    mrse=Big_Embeddings_MSRE(Data_by_user,user_vector,movie_vector,users_biases,items_biases)\n",
        "    list_of_rmse.append(mrse)\n",
        "  return list_of_rmse"
      ],
      "metadata": {
        "id": "36Fq9hFRf2ZV"
      },
      "execution_count": 8,
      "outputs": [],
      "id": "36Fq9hFRf2ZV"
    },
    {
      "cell_type": "code",
      "source": [
        "Big_list_rmse_train=Big_Embedding_model (Data_by_user= U1_train, Data_by_movie= M1_train,iteration_number=10,lambdA=0.01,gamma=0.001,tao=2,k=10)"
      ],
      "metadata": {
        "colab": {
          "base_uri": "https://localhost:8080/"
        },
        "id": "S2yoKVJggv8C",
        "outputId": "bb310ef6-ae2b-4ee5-9bd1-d99f9928d18d"
      },
      "id": "S2yoKVJggv8C",
      "execution_count": null,
      "outputs": [
        {
          "output_type": "stream",
          "name": "stderr",
          "text": [
            "\rinteration in progress:   0%|          | 0/10 [00:00<?, ?it/s]"
          ]
        }
      ]
    },
    {
      "cell_type": "code",
      "source": [
        "Big_list_rmse_test=Big_Embedding_model (Data_by_user= U1_test, Data_by_movie= M1_test,iteration_number=10,lambdA=0.01,gamma=0.001,tao=2,k=10)"
      ],
      "metadata": {
        "id": "1zqFKuHSh0CW"
      },
      "id": "1zqFKuHSh0CW",
      "execution_count": null,
      "outputs": []
    },
    {
      "cell_type": "code",
      "source": [],
      "metadata": {
        "id": "5QblV82a6kF1"
      },
      "id": "5QblV82a6kF1",
      "execution_count": 15,
      "outputs": []
    },
    {
      "cell_type": "code",
      "source": [
        "## The plotting\n",
        "fig,axes=plt.subplots(figsize=(8,5))\n",
        "## train plot\n",
        "axes.plot(Big_list_rmse_train,label='RMSE_train')\n",
        "axes.plot(Big_list_rmse_test,label='RMSE_test',color='orange')\n",
        "#axes[0,0].plot(list_of_rmse_test,label='RMSE_test')\n",
        "axes.set_ylim()\n",
        "axes.legend()\n",
        "axes.set_title('RMSE of train and test data set')\n",
        "axes.set_xlabel(\"num_of_iteration\")\n",
        "axes.set_ylabel('error_value')\n",
        "\n",
        "'''#axes[0].plot(list_of_rmse_test,label='RMSE_test')\n",
        "axes[1].plot(Big_list_rmse_test,label='RMSE_test',color='orange')\n",
        "axes[1].set_ylim()\n",
        "axes[1].legend()\n",
        "axes[1].set_title('rmse of test set')\n",
        "axes[1].set_xlabel(\"num_of_iteration\")\n",
        "axes[1].set_ylabel('error_value')'''\n",
        "\n",
        "'''## test plot (list_of_losses_train,label='losses_train')\n",
        "axes[1,0].plot(list_losses_train,label='losses_train')\n",
        "#axes[1].plot(list_of_losses_test,label='losses_test')\n",
        "axes[1,0].set_title( 'loss of train set')\n",
        "axes[1,0].set_xlabel(\"num_of_iteration\")\n",
        "axes[1,0].set_ylabel('error_value')\n",
        "\n",
        "## test plot (list_of_losses_test,label='losses_test')\n",
        "#axes[1].plot(list_of_losses_train,label='losses_train')\n",
        "axes[1,1].plot(list_losses_test,label='losses_test',color='orange')\n",
        "axes[1,1].set_title( 'loss of test set')\n",
        "axes[1,1].set_xlabel(\"num_of_iteration\")\n",
        "axes[1,1].set_ylabel('error_value')\n",
        "'''\n",
        "\n",
        "plt.tight_layout()\n",
        "plt.show()"
      ],
      "metadata": {
        "colab": {
          "base_uri": "https://localhost:8080/",
          "height": 507
        },
        "collapsed": true,
        "outputId": "c5833f13-4873-430b-b5d0-d859d22aeaeb",
        "id": "t8H5-8XPXHDQ"
      },
      "execution_count": 18,
      "outputs": [
        {
          "output_type": "display_data",
          "data": {
            "text/plain": [
              "<Figure size 800x500 with 1 Axes>"
            ],
            "image/png": "[encoded data removed]"
          },
          "metadata": {}
        }
      ],
      "id": "t8H5-8XPXHDQ"
    },
    {
      "cell_type": "code",
      "source": [
        "## The plotting\n",
        "fig,axes=plt.subplots(figsize=(8,5))\n",
        "## train plot\n",
        "axes.plot(Big_list_rmse_train,label='RMSE_train')\n",
        "axes.plot(Big_list_rmse_test,label='RMSE_test',color='orange')\n",
        "#axes[0,0].plot(list_of_rmse_test,label='RMSE_test')\n",
        "axes.set_ylim()\n",
        "axes.legend()\n",
        "#axes.set_title('RMSE of train and test data set')\n",
        "axes.set_xlabel(\"num_of_iteration\")\n",
        "axes.set_ylabel('error_value')\n",
        "plt.tight_layout()\n",
        "plt.savefig('Pratice4.pdf')\n",
        "plt.show()"
      ],
      "metadata": {
        "id": "7b_9YlieY-a0"
      },
      "id": "7b_9YlieY-a0",
      "execution_count": null,
      "outputs": []
    },
    {
      "cell_type": "code",
      "source": [],
      "metadata": {
        "id": "4_gsmnO3ONcM"
      },
      "id": "4_gsmnO3ONcM",
      "execution_count": null,
      "outputs": []
    }
  ],
  "metadata": {
    "kernelspec": {
      "display_name": "Python 3",
      "name": "python3"
    },
    "language_info": {
      "codemirror_mode": {
        "name": "ipython",
        "version": 3
      },
      "file_extension": ".py",
      "mimetype": "text/x-python",
      "name": "python",
      "nbconvert_exporter": "python",
      "pygments_lexer": "ipython3",
      "version": "3.12.4"
    },
    "colab": {
      "provenance": [],
      "gpuType": "T4"
    },
    "accelerator": "GPU"
  },
  "nbformat": 4,
  "nbformat_minor": 5
}